{
 "cells": [
  {
   "cell_type": "code",
   "execution_count": 5,
   "id": "3ab682fb-504b-4399-ad2f-6086557bc9ce",
   "metadata": {},
   "outputs": [],
   "source": [
    "#Implement a function that checks whether a given string is a palindrome or not.\n",
    "def is_palindrome(s: str) -> bool:\n",
    "    return s == s[::-1]"
   ]
  },
  {
   "cell_type": "code",
   "execution_count": 8,
   "id": "89c2a263-e6e2-4d20-ba3e-e0da59ba23ed",
   "metadata": {},
   "outputs": [],
   "source": [
    "#Given a sorted array of integers, implement a function that returns the index of the first occurrence of a given number.\n",
    "def first_occurrence(arr, target):\n",
    "    low, high = 0, len(arr) - 1\n",
    "    while low <= high:\n",
    "        mid = (low + high) // 2\n",
    "        if arr[mid] < target:\n",
    "            low = mid + 1\n",
    "        elif arr[mid] > target:\n",
    "            high = mid - 1\n",
    "        else:\n",
    "            if mid == 0 or arr[mid - 1] != target:\n",
    "                return mid\n",
    "            high = mid - 1\n",
    "    return -1\n"
   ]
  },
  {
   "cell_type": "code",
   "execution_count": 9,
   "id": "8a34526e-aa3f-410d-868f-c2e94910b6e0",
   "metadata": {},
   "outputs": [],
   "source": [
    "#Given a string of words, implement a function that returns the shortest word in the string.\n",
    "def shortest_word(s: str) -> str:\n",
    "    words = s.split()\n",
    "    return min(words, key=len)\n"
   ]
  },
  {
   "cell_type": "code",
   "execution_count": 10,
   "id": "307f2f46-bb17-4b68-996e-d7d0bbf9df48",
   "metadata": {},
   "outputs": [],
   "source": [
    "#Implement a function that checks whether a given number is prime or not\n",
    "def is_prime(num):\n",
    "    if num <= 1:\n",
    "        return False\n",
    "    for i in range(2, int(num**0.5) + 1):\n",
    "        if num % i == 0:\n",
    "            return False\n",
    "    return True\n"
   ]
  },
  {
   "cell_type": "code",
   "execution_count": 11,
   "id": "ac540038-28f4-4e73-a975-7ea99f94a0c1",
   "metadata": {},
   "outputs": [],
   "source": [
    "#Given a sorted array of integers, implement a function that returns the median of the array.\n",
    "def median(arr):\n",
    "    n = len(arr)\n",
    "    if n % 2 == 1:\n",
    "        return arr[n//2]\n",
    "    else:\n",
    "        return (arr[n//2 - 1] + arr[n//2]) / 2\n"
   ]
  },
  {
   "cell_type": "code",
   "execution_count": 12,
   "id": "f7167fc0-4664-499a-b5b5-079f35485102",
   "metadata": {},
   "outputs": [],
   "source": [
    "#Implement a function that finds the longest common prefix of a given set of strings.\n",
    "def longest_common_prefix(strs):\n",
    "    if not strs:\n",
    "        return \"\"\n",
    "    shortest = min(strs, key=len)\n",
    "    for i, char in enumerate(shortest):\n",
    "        for other in strs:\n",
    "            if other[i] != char:\n",
    "                return shortest[:i]\n",
    "    return shortest\n"
   ]
  },
  {
   "cell_type": "code",
   "execution_count": 14,
   "id": "c63e51ac-77e2-4d82-aab3-0f6fb2d72a01",
   "metadata": {},
   "outputs": [],
   "source": [
    "#Implement a function that returns the kth smallest element in a given array.\n",
    "def kth_smallest(arr, k):\n",
    "    return sorted(arr)[k-1]\n"
   ]
  },
  {
   "cell_type": "code",
   "execution_count": 15,
   "id": "cec8bad9-3ee1-4572-a3bf-421b2dca2d06",
   "metadata": {},
   "outputs": [],
   "source": [
    "#Given a binary tree, implement a function that returns the maximum depth of the tree.\n",
    "class TreeNode:\n",
    "    def __init__(self, val=0, left=None, right=None):\n",
    "        self.val = val\n",
    "        self.left = left\n",
    "        self.right = right\n",
    "\n",
    "def max_depth(root):\n",
    "    if not root:\n",
    "        return 0\n",
    "    else:\n",
    "        left_height = max_depth(root.left)\n",
    "        right_height = max_depth(root.right)\n",
    "        return 1 + max(left_height, right_height)\n"
   ]
  },
  {
   "cell_type": "code",
   "execution_count": null,
   "id": "9e26c61b-290a-4cd0-ba9d-2ce2e462dfc2",
   "metadata": {},
   "outputs": [],
   "source": []
  }
 ],
 "metadata": {
  "kernelspec": {
   "display_name": "Python 3 (ipykernel)",
   "language": "python",
   "name": "python3"
  },
  "language_info": {
   "codemirror_mode": {
    "name": "ipython",
    "version": 3
   },
   "file_extension": ".py",
   "mimetype": "text/x-python",
   "name": "python",
   "nbconvert_exporter": "python",
   "pygments_lexer": "ipython3",
   "version": "3.11.7"
  }
 },
 "nbformat": 4,
 "nbformat_minor": 5
}
